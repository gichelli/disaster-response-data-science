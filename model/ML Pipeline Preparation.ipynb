{
 "cells": [
  {
   "cell_type": "markdown",
   "metadata": {},
   "source": [
    "# ML Pipeline Preparation\n",
    "Follow the instructions below to help you create your ML pipeline.\n",
    "### 1. Import libraries and load data from database.\n",
    "- Import Python libraries\n",
    "- Load dataset from database with [`read_sql_table`](https://pandas.pydata.org/pandas-docs/stable/generated/pandas.read_sql_table.html)\n",
    "- Define feature and target variables X and Y"
   ]
  },
  {
   "cell_type": "code",
   "execution_count": 31,
   "metadata": {},
   "outputs": [
    {
     "name": "stdout",
     "output_type": "stream",
     "text": [
      "[nltk_data] Downloading package punkt to /root/nltk_data...\n",
      "[nltk_data]   Package punkt is already up-to-date!\n",
      "[nltk_data] Downloading package stopwords to /root/nltk_data...\n",
      "[nltk_data]   Package stopwords is already up-to-date!\n",
      "[nltk_data] Downloading package punkt to /root/nltk_data...\n",
      "[nltk_data]   Package punkt is already up-to-date!\n",
      "[nltk_data] Downloading package wordnet to /root/nltk_data...\n",
      "[nltk_data]   Package wordnet is already up-to-date!\n",
      "[nltk_data] Downloading package averaged_perceptron_tagger to\n",
      "[nltk_data]     /root/nltk_data...\n",
      "[nltk_data]   Package averaged_perceptron_tagger is already up-to-\n",
      "[nltk_data]       date!\n"
     ]
    }
   ],
   "source": [
    "# import libraries\n",
    "import sys\n",
    "from sqlalchemy import create_engine\n",
    "import pandas as pd\n",
    "from sklearn.model_selection import train_test_split\n",
    "from sklearn.pipeline import Pipeline\n",
    "from sklearn.pipeline import Pipeline, FeatureUnion\n",
    "from sklearn.feature_extraction.text import CountVectorizer, TfidfTransformer\n",
    "from sklearn.ensemble import RandomForestClassifier\n",
    "from nltk.tokenize import word_tokenize\n",
    "from nltk.stem import WordNetLemmatizer\n",
    "import nltk\n",
    "from nltk.corpus import stopwords\n",
    "nltk.download('punkt')\n",
    "nltk.download('stopwords')\n",
    "from sklearn.metrics import classification_report\n",
    "from sklearn import multioutput\n",
    "nltk.download(['punkt', 'wordnet', 'averaged_perceptron_tagger'])\n",
    "\n",
    "import re\n",
    "from sklearn.linear_model import LogisticRegression\n",
    "from sklearn.model_selection import GridSearchCV\n",
    "import pickle"
   ]
  },
  {
   "cell_type": "code",
   "execution_count": 14,
   "metadata": {},
   "outputs": [],
   "source": [
    "# load data from database\n",
    "engine = create_engine('sqlite:///disasters_responses.db')\n",
    "df = pd.read_sql_table('disasters_responses', engine)"
   ]
  },
  {
   "cell_type": "code",
   "execution_count": 15,
   "metadata": {},
   "outputs": [],
   "source": [
    "engine = create_engine('sqlite:///disasters_responses.db')\n",
    "dataset = pd.read_sql_table('disasters_responses', engine)"
   ]
  },
  {
   "cell_type": "code",
   "execution_count": 16,
   "metadata": {},
   "outputs": [],
   "source": [
    "X = df['message']\n",
    "Y = df.iloc[:, 3:]\n",
    "category_names = Y.columns"
   ]
  },
  {
   "cell_type": "markdown",
   "metadata": {},
   "source": [
    "### 2. Write a tokenization function to process your text data"
   ]
  },
  {
   "cell_type": "code",
   "execution_count": 17,
   "metadata": {},
   "outputs": [],
   "source": [
    "def tokenize(text):\n",
    "    '''\n",
    "    input:\n",
    "    text - string that needs to be tokenized\n",
    "    outout:\n",
    "    a list of words\n",
    "    '''\n",
    "    #normalize the text\n",
    "    text = text.lower()\n",
    "    #Remove punctuation characters\n",
    "    text = re.sub(r'(?:([A-Za-z0-9]+)/([A-Za-z0-9]+))|(/)', \" \", text)\n",
    "    text = re.sub(r'[?|$|.|!]', r'', text)\n",
    "    # text = r'(?:([A-Za-z0-9]+)/([A-Za-z0-9]+))|(/)'\n",
    "    tokens = word_tokenize(text)\n",
    "    # Remove stop words\n",
    "    tokens = [i for i in tokens if i not in stopwords.words(\"english\")]\n",
    "    tokens = word_tokenize(text)\n",
    "    lemmatizer = WordNetLemmatizer()\n",
    "\n",
    "    clean_tokens = []\n",
    "    for tok in tokens:\n",
    "        clean_tok = lemmatizer.lemmatize(tok).lower().strip()\n",
    "        clean_tokens.append(clean_tok)\n",
    "\n",
    "    return clean_tokens"
   ]
  },
  {
   "cell_type": "markdown",
   "metadata": {},
   "source": [
    "### 3. Build a machine learning pipeline\n",
    "This machine pipeline should take in the `message` column as input and output classification results on the other 36 categories in the dataset. You may find the [MultiOutputClassifier](http://scikit-learn.org/stable/modules/generated/sklearn.multioutput.MultiOutputClassifier.html) helpful for predicting multiple target variables."
   ]
  },
  {
   "cell_type": "code",
   "execution_count": 8,
   "metadata": {},
   "outputs": [],
   "source": [
    "def build_model():\n",
    "    pipeline = Pipeline([\n",
    "    ('features', FeatureUnion([\n",
    "        ('text_pipeline', Pipeline([\n",
    "            ('vect', CountVectorizer(tokenizer=tokenize)),\n",
    "            ('tfidf', TfidfTransformer())\n",
    "        ])),\n",
    "\n",
    "    ])),\n",
    "\n",
    "    ('clf', RandomForestClassifier())\n",
    "    ])    \n",
    "    return pipeline"
   ]
  },
  {
   "cell_type": "markdown",
   "metadata": {},
   "source": [
    "### 4. Train pipeline\n",
    "- Split data into train and test sets\n",
    "- Train pipeline"
   ]
  },
  {
   "cell_type": "code",
   "execution_count": 10,
   "metadata": {},
   "outputs": [],
   "source": [
    "X_train, X_test, Y_train, Y_test = train_test_split(X, Y, test_size=0.2)"
   ]
  },
  {
   "cell_type": "code",
   "execution_count": 30,
   "metadata": {},
   "outputs": [],
   "source": [
    "# Y_test"
   ]
  },
  {
   "cell_type": "code",
   "execution_count": 31,
   "metadata": {},
   "outputs": [
    {
     "data": {
      "text/plain": [
       "(20972,)"
      ]
     },
     "execution_count": 31,
     "metadata": {},
     "output_type": "execute_result"
    }
   ],
   "source": [
    "X_train.shape"
   ]
  },
  {
   "cell_type": "code",
   "execution_count": 32,
   "metadata": {},
   "outputs": [
    {
     "data": {
      "text/plain": [
       "(5244,)"
      ]
     },
     "execution_count": 32,
     "metadata": {},
     "output_type": "execute_result"
    }
   ],
   "source": [
    "X_test.shape"
   ]
  },
  {
   "cell_type": "code",
   "execution_count": 33,
   "metadata": {},
   "outputs": [
    {
     "data": {
      "text/plain": [
       "(20972, 36)"
      ]
     },
     "execution_count": 33,
     "metadata": {},
     "output_type": "execute_result"
    }
   ],
   "source": [
    "Y_train.shape"
   ]
  },
  {
   "cell_type": "code",
   "execution_count": 34,
   "metadata": {},
   "outputs": [
    {
     "data": {
      "text/plain": [
       "(5244, 36)"
      ]
     },
     "execution_count": 34,
     "metadata": {},
     "output_type": "execute_result"
    }
   ],
   "source": [
    "Y_test.shape"
   ]
  },
  {
   "cell_type": "code",
   "execution_count": 39,
   "metadata": {
    "scrolled": true
   },
   "outputs": [],
   "source": [
    "model = build_model()"
   ]
  },
  {
   "cell_type": "code",
   "execution_count": 56,
   "metadata": {
    "scrolled": true
   },
   "outputs": [
    {
     "data": {
      "text/plain": [
       "Pipeline(memory=None,\n",
       "     steps=[('features', FeatureUnion(n_jobs=1,\n",
       "       transformer_list=[('text_pipeline', Pipeline(memory=None,\n",
       "     steps=[('vect', CountVectorizer(analyzer='word', binary=False, decode_error='strict',\n",
       "        dtype=<class 'numpy.int64'>, encoding='utf-8', input='content',\n",
       "        lowercase=True, max_d...n_jobs=1,\n",
       "            oob_score=False, random_state=None, verbose=0,\n",
       "            warm_start=False))])"
      ]
     },
     "execution_count": 56,
     "metadata": {},
     "output_type": "execute_result"
    }
   ],
   "source": [
    "model.fit(X_train, Y_train)"
   ]
  },
  {
   "cell_type": "code",
   "execution_count": 57,
   "metadata": {},
   "outputs": [],
   "source": [
    "Y_pred = model.predict(X_test)"
   ]
  },
  {
   "cell_type": "code",
   "execution_count": 80,
   "metadata": {},
   "outputs": [
    {
     "data": {
      "text/plain": [
       "array([[ 0.,  0.,  0., ...,  0.,  0.,  0.],\n",
       "       [ 1.,  0.,  0., ...,  0.,  0.,  0.],\n",
       "       [ 1.,  0.,  0., ...,  0.,  0.,  0.],\n",
       "       ..., \n",
       "       [ 1.,  0.,  0., ...,  0.,  0.,  0.],\n",
       "       [ 1.,  0.,  0., ...,  0.,  0.,  0.],\n",
       "       [ 1.,  0.,  0., ...,  0.,  0.,  0.]])"
      ]
     },
     "execution_count": 80,
     "metadata": {},
     "output_type": "execute_result"
    }
   ],
   "source": [
    "Y_pred"
   ]
  },
  {
   "cell_type": "code",
   "execution_count": 63,
   "metadata": {},
   "outputs": [
    {
     "data": {
      "text/plain": [
       "Index(['related', 'request', 'offer', 'aid_related', 'medical_help',\n",
       "       'medical_products', 'search_and_rescue', 'security', 'military',\n",
       "       'child_alone', 'water', 'food', 'shelter', 'clothing', 'money',\n",
       "       'missing_people', 'refugees', 'death', 'other_aid',\n",
       "       'infrastructure_related', 'transport', 'buildings', 'electricity',\n",
       "       'tools', 'hospitals', 'shops', 'aid_centers', 'other_infrastructure',\n",
       "       'weather_related', 'floods', 'storm', 'fire', 'earthquake', 'cold',\n",
       "       'other_weather', 'direct_report'],\n",
       "      dtype='object')"
      ]
     },
     "execution_count": 63,
     "metadata": {},
     "output_type": "execute_result"
    }
   ],
   "source": [
    "category_names"
   ]
  },
  {
   "cell_type": "code",
   "execution_count": 65,
   "metadata": {},
   "outputs": [
    {
     "data": {
      "text/plain": [
       "array([[1, 0, 0, ..., 0, 0, 0],\n",
       "       [1, 0, 0, ..., 0, 0, 0],\n",
       "       [1, 0, 0, ..., 0, 0, 0],\n",
       "       ..., \n",
       "       [1, 0, 0, ..., 0, 0, 0],\n",
       "       [1, 0, 0, ..., 0, 0, 0],\n",
       "       [1, 0, 0, ..., 0, 1, 0]])"
      ]
     },
     "execution_count": 65,
     "metadata": {},
     "output_type": "execute_result"
    }
   ],
   "source": [
    "Y_test.values"
   ]
  },
  {
   "cell_type": "code",
   "execution_count": 77,
   "metadata": {},
   "outputs": [
    {
     "data": {
      "text/plain": [
       "array([1, 0, 0, 0, 0, 0, 0, 0, 0, 0, 0, 0, 0, 0, 0, 0, 0, 0, 0, 0, 0, 0, 0,\n",
       "       0, 0, 0, 0, 0, 0, 0, 0, 0, 0, 0, 0, 0])"
      ]
     },
     "execution_count": 77,
     "metadata": {},
     "output_type": "execute_result"
    }
   ],
   "source": [
    "Y_test.values[0]"
   ]
  },
  {
   "cell_type": "code",
   "execution_count": 70,
   "metadata": {},
   "outputs": [
    {
     "name": "stdout",
     "output_type": "stream",
     "text": [
      "<class 'numpy.ndarray'> <class 'numpy.ndarray'>\n"
     ]
    }
   ],
   "source": [
    "print(type(Y_test.values), type(Y_pred))"
   ]
  },
  {
   "cell_type": "code",
   "execution_count": 73,
   "metadata": {},
   "outputs": [
    {
     "data": {
      "text/plain": [
       "Index(['related', 'request', 'offer', 'aid_related', 'medical_help',\n",
       "       'medical_products', 'search_and_rescue', 'security', 'military',\n",
       "       'child_alone', 'water', 'food', 'shelter', 'clothing', 'money',\n",
       "       'missing_people', 'refugees', 'death', 'other_aid',\n",
       "       'infrastructure_related', 'transport', 'buildings', 'electricity',\n",
       "       'tools', 'hospitals', 'shops', 'aid_centers', 'other_infrastructure',\n",
       "       'weather_related', 'floods', 'storm', 'fire', 'earthquake', 'cold',\n",
       "       'other_weather', 'direct_report'],\n",
       "      dtype='object')"
      ]
     },
     "execution_count": 73,
     "metadata": {},
     "output_type": "execute_result"
    }
   ],
   "source": [
    "category_names"
   ]
  },
  {
   "cell_type": "code",
   "execution_count": 74,
   "metadata": {},
   "outputs": [
    {
     "data": {
      "text/plain": [
       "array(['related', 'request', 'offer', 'aid_related', 'medical_help',\n",
       "       'medical_products', 'search_and_rescue', 'security', 'military',\n",
       "       'child_alone', 'water', 'food', 'shelter', 'clothing', 'money',\n",
       "       'missing_people', 'refugees', 'death', 'other_aid',\n",
       "       'infrastructure_related', 'transport', 'buildings', 'electricity',\n",
       "       'tools', 'hospitals', 'shops', 'aid_centers',\n",
       "       'other_infrastructure', 'weather_related', 'floods', 'storm',\n",
       "       'fire', 'earthquake', 'cold', 'other_weather', 'direct_report'], dtype=object)"
      ]
     },
     "execution_count": 74,
     "metadata": {},
     "output_type": "execute_result"
    }
   ],
   "source": [
    "Y.columns.values "
   ]
  },
  {
   "cell_type": "markdown",
   "metadata": {},
   "source": [
    "### 5. Test your model\n",
    "Report the f1 score, precision and recall for each output category of the dataset. You can do this by iterating through the columns and calling sklearn's `classification_report` on each."
   ]
  },
  {
   "cell_type": "code",
   "execution_count": 72,
   "metadata": {},
   "outputs": [
    {
     "name": "stdout",
     "output_type": "stream",
     "text": [
      "related              precision    recall  f1-score   support\n",
      "\n",
      "          0       0.57      0.47      0.51      1227\n",
      "          1       0.84      0.89      0.87      3984\n",
      "          2       0.38      0.09      0.15        33\n",
      "\n",
      "avg / total       0.77      0.79      0.78      5244\n",
      "\n",
      "request              precision    recall  f1-score   support\n",
      "\n",
      "          0       0.90      0.98      0.94      4396\n",
      "          1       0.82      0.41      0.54       848\n",
      "\n",
      "avg / total       0.88      0.89      0.87      5244\n",
      "\n",
      "offer              precision    recall  f1-score   support\n",
      "\n",
      "          0       1.00      1.00      1.00      5219\n",
      "          1       0.00      0.00      0.00        25\n",
      "\n",
      "avg / total       0.99      1.00      0.99      5244\n",
      "\n",
      "aid_related              precision    recall  f1-score   support\n",
      "\n",
      "          0       0.70      0.91      0.79      3104\n",
      "          1       0.77      0.43      0.55      2140\n",
      "\n",
      "avg / total       0.73      0.71      0.69      5244\n",
      "\n",
      "medical_help              precision    recall  f1-score   support\n",
      "\n",
      "          0       0.93      1.00      0.97      4895\n",
      "          1       0.54      0.02      0.04       349\n",
      "\n",
      "avg / total       0.91      0.93      0.90      5244\n",
      "\n",
      "medical_products              precision    recall  f1-score   support\n",
      "\n",
      "          0       0.96      1.00      0.98      5004\n",
      "          1       0.64      0.03      0.06       240\n",
      "\n",
      "avg / total       0.94      0.95      0.93      5244\n",
      "\n",
      "search_and_rescue              precision    recall  f1-score   support\n",
      "\n",
      "          0       0.97      1.00      0.99      5094\n",
      "          1       0.60      0.02      0.04       150\n",
      "\n",
      "avg / total       0.96      0.97      0.96      5244\n",
      "\n",
      "security              precision    recall  f1-score   support\n",
      "\n",
      "          0       0.98      1.00      0.99      5165\n",
      "          1       0.00      0.00      0.00        79\n",
      "\n",
      "avg / total       0.97      0.98      0.98      5244\n",
      "\n",
      "military              precision    recall  f1-score   support\n",
      "\n",
      "          0       0.97      1.00      0.98      5066\n",
      "          1       0.00      0.00      0.00       178\n",
      "\n",
      "avg / total       0.93      0.97      0.95      5244\n",
      "\n",
      "child_alone              precision    recall  f1-score   support\n",
      "\n",
      "          0       1.00      1.00      1.00      5244\n",
      "\n",
      "avg / total       1.00      1.00      1.00      5244\n",
      "\n",
      "water              precision    recall  f1-score   support\n",
      "\n",
      "          0       0.94      1.00      0.97      4905\n",
      "          1       0.87      0.14      0.24       339\n",
      "\n",
      "avg / total       0.94      0.94      0.92      5244\n",
      "\n",
      "food              precision    recall  f1-score   support\n",
      "\n",
      "          0       0.91      0.99      0.95      4653\n",
      "          1       0.84      0.25      0.39       591\n",
      "\n",
      "avg / total       0.90      0.91      0.89      5244\n",
      "\n",
      "shelter              precision    recall  f1-score   support\n",
      "\n",
      "          0       0.92      1.00      0.96      4758\n",
      "          1       0.81      0.17      0.28       486\n",
      "\n",
      "avg / total       0.91      0.92      0.90      5244\n",
      "\n",
      "clothing              precision    recall  f1-score   support\n",
      "\n",
      "          0       0.99      1.00      0.99      5171\n",
      "          1       0.75      0.04      0.08        73\n",
      "\n",
      "avg / total       0.98      0.99      0.98      5244\n",
      "\n",
      "money              precision    recall  f1-score   support\n",
      "\n",
      "          0       0.98      1.00      0.99      5131\n",
      "          1       0.67      0.02      0.03       113\n",
      "\n",
      "avg / total       0.97      0.98      0.97      5244\n",
      "\n",
      "missing_people              precision    recall  f1-score   support\n",
      "\n",
      "          0       0.99      1.00      0.99      5183\n",
      "          1       0.00      0.00      0.00        61\n",
      "\n",
      "avg / total       0.98      0.99      0.98      5244\n",
      "\n",
      "refugees              precision    recall  f1-score   support\n",
      "\n",
      "          0       0.96      1.00      0.98      5059\n",
      "          1       0.20      0.01      0.01       185\n",
      "\n",
      "avg / total       0.94      0.96      0.95      5244\n",
      "\n",
      "death              precision    recall  f1-score   support\n",
      "\n",
      "          0       0.96      1.00      0.98      5005\n",
      "          1       0.71      0.06      0.12       239\n",
      "\n",
      "avg / total       0.95      0.96      0.94      5244\n",
      "\n",
      "other_aid              precision    recall  f1-score   support\n",
      "\n",
      "          0       0.87      1.00      0.93      4565\n",
      "          1       0.56      0.03      0.05       679\n",
      "\n",
      "avg / total       0.83      0.87      0.82      5244\n",
      "\n",
      "infrastructure_related              precision    recall  f1-score   support\n",
      "\n",
      "          0       0.93      1.00      0.97      4900\n",
      "          1       0.00      0.00      0.00       344\n",
      "\n",
      "avg / total       0.87      0.93      0.90      5244\n",
      "\n",
      "transport              precision    recall  f1-score   support\n",
      "\n",
      "          0       0.96      1.00      0.98      5013\n",
      "          1       0.40      0.01      0.02       231\n",
      "\n",
      "avg / total       0.93      0.96      0.94      5244\n",
      "\n",
      "buildings              precision    recall  f1-score   support\n",
      "\n",
      "          0       0.95      1.00      0.97      4969\n",
      "          1       0.89      0.03      0.06       275\n",
      "\n",
      "avg / total       0.95      0.95      0.93      5244\n",
      "\n",
      "electricity              precision    recall  f1-score   support\n",
      "\n",
      "          0       0.98      1.00      0.99      5146\n",
      "          1       0.00      0.00      0.00        98\n",
      "\n",
      "avg / total       0.96      0.98      0.97      5244\n",
      "\n",
      "tools              precision    recall  f1-score   support\n",
      "\n",
      "          0       1.00      1.00      1.00      5219\n",
      "          1       0.00      0.00      0.00        25\n",
      "\n",
      "avg / total       0.99      1.00      0.99      5244\n",
      "\n",
      "hospitals              precision    recall  f1-score   support\n",
      "\n",
      "          0       0.99      1.00      0.99      5184\n",
      "          1       0.00      0.00      0.00        60\n",
      "\n",
      "avg / total       0.98      0.99      0.98      5244\n",
      "\n",
      "shops              precision    recall  f1-score   support\n",
      "\n",
      "          0       1.00      1.00      1.00      5219\n",
      "          1       0.00      0.00      0.00        25\n",
      "\n",
      "avg / total       0.99      1.00      0.99      5244\n",
      "\n",
      "aid_centers              precision    recall  f1-score   support\n",
      "\n",
      "          0       0.99      1.00      0.99      5188\n",
      "          1       0.00      0.00      0.00        56\n",
      "\n",
      "avg / total       0.98      0.99      0.98      5244\n",
      "\n",
      "other_infrastructure              precision    recall  f1-score   support\n",
      "\n",
      "          0       0.96      1.00      0.98      5021\n",
      "          1       0.00      0.00      0.00       223\n",
      "\n",
      "avg / total       0.92      0.96      0.94      5244\n",
      "\n",
      "weather_related              precision    recall  f1-score   support\n",
      "\n",
      "          0       0.80      0.97      0.88      3765\n",
      "          1       0.84      0.38      0.53      1479\n",
      "\n",
      "avg / total       0.81      0.81      0.78      5244\n",
      "\n",
      "floods              precision    recall  f1-score   support\n",
      "\n",
      "          0       0.92      1.00      0.96      4789\n",
      "          1       0.88      0.14      0.24       455\n",
      "\n",
      "avg / total       0.92      0.92      0.90      5244\n",
      "\n",
      "storm              precision    recall  f1-score   support\n",
      "\n",
      "          0       0.92      0.99      0.96      4765\n",
      "          1       0.72      0.15      0.25       479\n",
      "\n",
      "avg / total       0.90      0.92      0.89      5244\n",
      "\n",
      "fire              precision    recall  f1-score   support\n",
      "\n",
      "          0       0.99      1.00      1.00      5193\n",
      "          1       0.00      0.00      0.00        51\n",
      "\n",
      "avg / total       0.98      0.99      0.99      5244\n",
      "\n",
      "earthquake              precision    recall  f1-score   support\n",
      "\n",
      "          0       0.94      0.99      0.96      4740\n",
      "          1       0.83      0.36      0.50       504\n",
      "\n",
      "avg / total       0.93      0.93      0.92      5244\n",
      "\n",
      "cold              precision    recall  f1-score   support\n",
      "\n",
      "          0       0.98      1.00      0.99      5153\n",
      "          1       0.50      0.01      0.02        91\n",
      "\n",
      "avg / total       0.97      0.98      0.97      5244\n",
      "\n",
      "other_weather              precision    recall  f1-score   support\n",
      "\n",
      "          0       0.95      1.00      0.97      4986\n",
      "          1       0.20      0.00      0.01       258\n",
      "\n",
      "avg / total       0.91      0.95      0.93      5244\n",
      "\n",
      "direct_report              precision    recall  f1-score   support\n",
      "\n",
      "          0       0.86      0.98      0.92      4275\n",
      "          1       0.77      0.31      0.44       969\n",
      "\n",
      "avg / total       0.84      0.86      0.83      5244\n",
      "\n"
     ]
    },
    {
     "name": "stderr",
     "output_type": "stream",
     "text": [
      "/opt/conda/lib/python3.6/site-packages/sklearn/metrics/classification.py:1135: UndefinedMetricWarning: Precision and F-score are ill-defined and being set to 0.0 in labels with no predicted samples.\n",
      "  'precision', 'predicted', average, warn_for)\n"
     ]
    }
   ],
   "source": [
    "for i, col in enumerate(category_names):\n",
    "        print(col, classification_report(Y_test.iloc[:,i], Y_pred[:,i]))"
   ]
  },
  {
   "cell_type": "markdown",
   "metadata": {},
   "source": [
    "### 6. Improve your model\n",
    "Use grid search to find better parameters. "
   ]
  },
  {
   "cell_type": "code",
   "execution_count": 21,
   "metadata": {},
   "outputs": [],
   "source": [
    "#We need to add parameters to ramdonforest classifier to make it more precise and see \n",
    "#if improves our model - try as many as you want yet running (fitting) this is time \n",
    "#consumming. Here we use GridSearchCV\n",
    "pipeline_parametized = Pipeline([\n",
    "    ('features', FeatureUnion([\n",
    "        ('text_pipeline', Pipeline([\n",
    "            ('vect', CountVectorizer(tokenizer=tokenize)),\n",
    "            ('tfidf', TfidfTransformer())\n",
    "        ])),\n",
    "    ])),\n",
    "\n",
    "     ('clf', multioutput.MultiOutputClassifier(RandomForestClassifier( random_state=0)))\n",
    "])\n",
    "\n",
    "parameters = {\n",
    "#         'features__text_pipeline__vect__ngram_range': ((1, 1), (1, 2)),\n",
    "#         'features__text_pipeline__vect__max_df': (0.5, 1.0),\n",
    "#         'features__text_pipeline__vect__max_features': (None, 500),\n",
    "#         'features__text_pipeline__tfidf__use_idf': (True, False),\n",
    "        'clf__estimator__n_estimators': [20],\n",
    "        'clf__estimator__min_samples_split': [2, 3]\n",
    "#         'clf__estimator__max_depth': [3]\n",
    "#         'estimator__features__n_jobs': [2]\n",
    "#         'estimator__clf__estimator__max_features': (None, 5000)\n",
    "#         'estimator__clf__estimator__max_features': [None, 5000]\n",
    "#         'estimator__clf__estimator__bootstrap': [True]\n",
    "    }\n",
    "cv = GridSearchCV(pipeline_parametized, param_grid = parameters)\n",
    "    \n",
    "    "
   ]
  },
  {
   "cell_type": "code",
   "execution_count": 159,
   "metadata": {},
   "outputs": [
    {
     "data": {
      "text/plain": [
       "{'memory': None, 'steps': [('features', FeatureUnion(n_jobs=1,\n",
       "          transformer_list=[('text_pipeline', Pipeline(memory=None,\n",
       "        steps=[('vect', CountVectorizer(analyzer='word', binary=False, decode_error='strict',\n",
       "           dtype=<class 'numpy.int64'>, encoding='utf-8', input='content',\n",
       "           lowercase=True, max_df=1.0, max_features=None, min_df=1,\n",
       "           ngram_range=(1, 1), preprocessor=None, stop_words=None,\n",
       "           strip...y=None)), ('tfidf', TfidfTransformer(norm='l2', smooth_idf=True, sublinear_tf=False, use_idf=True))]))],\n",
       "          transformer_weights=None)),\n",
       "  ('clf',\n",
       "   MultiOutputClassifier(estimator=RandomForestClassifier(bootstrap=True, class_weight=None, criterion='gini',\n",
       "               max_depth=None, max_features='auto', max_leaf_nodes=None,\n",
       "               min_impurity_decrease=0.0, min_impurity_split=None,\n",
       "               min_samples_leaf=1, min_samples_split=2,\n",
       "               min_weight_fraction_leaf=0.0, n_estimators=10, n_jobs=1,\n",
       "               oob_score=False, random_state=0, verbose=0, warm_start=False),\n",
       "              n_jobs=1))], 'features': FeatureUnion(n_jobs=1,\n",
       "        transformer_list=[('text_pipeline', Pipeline(memory=None,\n",
       "      steps=[('vect', CountVectorizer(analyzer='word', binary=False, decode_error='strict',\n",
       "         dtype=<class 'numpy.int64'>, encoding='utf-8', input='content',\n",
       "         lowercase=True, max_df=1.0, max_features=None, min_df=1,\n",
       "         ngram_range=(1, 1), preprocessor=None, stop_words=None,\n",
       "         strip...y=None)), ('tfidf', TfidfTransformer(norm='l2', smooth_idf=True, sublinear_tf=False, use_idf=True))]))],\n",
       "        transformer_weights=None), 'clf': MultiOutputClassifier(estimator=RandomForestClassifier(bootstrap=True, class_weight=None, criterion='gini',\n",
       "             max_depth=None, max_features='auto', max_leaf_nodes=None,\n",
       "             min_impurity_decrease=0.0, min_impurity_split=None,\n",
       "             min_samples_leaf=1, min_samples_split=2,\n",
       "             min_weight_fraction_leaf=0.0, n_estimators=10, n_jobs=1,\n",
       "             oob_score=False, random_state=0, verbose=0, warm_start=False),\n",
       "            n_jobs=1), 'features__n_jobs': 1, 'features__transformer_list': [('text_pipeline',\n",
       "   Pipeline(memory=None,\n",
       "        steps=[('vect', CountVectorizer(analyzer='word', binary=False, decode_error='strict',\n",
       "           dtype=<class 'numpy.int64'>, encoding='utf-8', input='content',\n",
       "           lowercase=True, max_df=1.0, max_features=None, min_df=1,\n",
       "           ngram_range=(1, 1), preprocessor=None, stop_words=None,\n",
       "           strip...y=None)), ('tfidf', TfidfTransformer(norm='l2', smooth_idf=True, sublinear_tf=False, use_idf=True))]))], 'features__transformer_weights': None, 'features__text_pipeline': Pipeline(memory=None,\n",
       "      steps=[('vect', CountVectorizer(analyzer='word', binary=False, decode_error='strict',\n",
       "         dtype=<class 'numpy.int64'>, encoding='utf-8', input='content',\n",
       "         lowercase=True, max_df=1.0, max_features=None, min_df=1,\n",
       "         ngram_range=(1, 1), preprocessor=None, stop_words=None,\n",
       "         strip...y=None)), ('tfidf', TfidfTransformer(norm='l2', smooth_idf=True, sublinear_tf=False, use_idf=True))]), 'features__text_pipeline__memory': None, 'features__text_pipeline__steps': [('vect',\n",
       "   CountVectorizer(analyzer='word', binary=False, decode_error='strict',\n",
       "           dtype=<class 'numpy.int64'>, encoding='utf-8', input='content',\n",
       "           lowercase=True, max_df=1.0, max_features=None, min_df=1,\n",
       "           ngram_range=(1, 1), preprocessor=None, stop_words=None,\n",
       "           strip_accents=None, token_pattern='(?u)\\\\b\\\\w\\\\w+\\\\b',\n",
       "           tokenizer=<function tokenize at 0x7faadc8a10d0>, vocabulary=None)),\n",
       "  ('tfidf',\n",
       "   TfidfTransformer(norm='l2', smooth_idf=True, sublinear_tf=False, use_idf=True))], 'features__text_pipeline__vect': CountVectorizer(analyzer='word', binary=False, decode_error='strict',\n",
       "         dtype=<class 'numpy.int64'>, encoding='utf-8', input='content',\n",
       "         lowercase=True, max_df=1.0, max_features=None, min_df=1,\n",
       "         ngram_range=(1, 1), preprocessor=None, stop_words=None,\n",
       "         strip_accents=None, token_pattern='(?u)\\\\b\\\\w\\\\w+\\\\b',\n",
       "         tokenizer=<function tokenize at 0x7faadc8a10d0>, vocabulary=None), 'features__text_pipeline__tfidf': TfidfTransformer(norm='l2', smooth_idf=True, sublinear_tf=False, use_idf=True), 'features__text_pipeline__vect__analyzer': 'word', 'features__text_pipeline__vect__binary': False, 'features__text_pipeline__vect__decode_error': 'strict', 'features__text_pipeline__vect__dtype': numpy.int64, 'features__text_pipeline__vect__encoding': 'utf-8', 'features__text_pipeline__vect__input': 'content', 'features__text_pipeline__vect__lowercase': True, 'features__text_pipeline__vect__max_df': 1.0, 'features__text_pipeline__vect__max_features': None, 'features__text_pipeline__vect__min_df': 1, 'features__text_pipeline__vect__ngram_range': (1,\n",
       "  1), 'features__text_pipeline__vect__preprocessor': None, 'features__text_pipeline__vect__stop_words': None, 'features__text_pipeline__vect__strip_accents': None, 'features__text_pipeline__vect__token_pattern': '(?u)\\\\b\\\\w\\\\w+\\\\b', 'features__text_pipeline__vect__tokenizer': <function __main__.tokenize(text)>, 'features__text_pipeline__vect__vocabulary': None, 'features__text_pipeline__tfidf__norm': 'l2', 'features__text_pipeline__tfidf__smooth_idf': True, 'features__text_pipeline__tfidf__sublinear_tf': False, 'features__text_pipeline__tfidf__use_idf': True, 'clf__estimator__bootstrap': True, 'clf__estimator__class_weight': None, 'clf__estimator__criterion': 'gini', 'clf__estimator__max_depth': None, 'clf__estimator__max_features': 'auto', 'clf__estimator__max_leaf_nodes': None, 'clf__estimator__min_impurity_decrease': 0.0, 'clf__estimator__min_impurity_split': None, 'clf__estimator__min_samples_leaf': 1, 'clf__estimator__min_samples_split': 2, 'clf__estimator__min_weight_fraction_leaf': 0.0, 'clf__estimator__n_estimators': 10, 'clf__estimator__n_jobs': 1, 'clf__estimator__oob_score': False, 'clf__estimator__random_state': 0, 'clf__estimator__verbose': 0, 'clf__estimator__warm_start': False, 'clf__estimator': RandomForestClassifier(bootstrap=True, class_weight=None, criterion='gini',\n",
       "             max_depth=None, max_features='auto', max_leaf_nodes=None,\n",
       "             min_impurity_decrease=0.0, min_impurity_split=None,\n",
       "             min_samples_leaf=1, min_samples_split=2,\n",
       "             min_weight_fraction_leaf=0.0, n_estimators=10, n_jobs=1,\n",
       "             oob_score=False, random_state=0, verbose=0, warm_start=False), 'clf__n_jobs': 1}"
      ]
     },
     "execution_count": 159,
     "metadata": {},
     "output_type": "execute_result"
    }
   ],
   "source": [
    "#we get an error about wrong parameters, we fixed by looking at the right \n",
    "#parameters accepted\n",
    "pipeline_parametized.get_params()"
   ]
  },
  {
   "cell_type": "code",
   "execution_count": 22,
   "metadata": {},
   "outputs": [
    {
     "data": {
      "text/plain": [
       "GridSearchCV(cv=None, error_score='raise',\n",
       "       estimator=Pipeline(memory=None,\n",
       "     steps=[('features', FeatureUnion(n_jobs=1,\n",
       "       transformer_list=[('text_pipeline', Pipeline(memory=None,\n",
       "     steps=[('vect', CountVectorizer(analyzer='word', binary=False, decode_error='strict',\n",
       "        dtype=<class 'numpy.int64'>, encoding='utf-8', input='content',\n",
       "        lowercase=True, max_d...1,\n",
       "            oob_score=False, random_state=0, verbose=0, warm_start=False),\n",
       "           n_jobs=1))]),\n",
       "       fit_params=None, iid=True, n_jobs=1,\n",
       "       param_grid={'clf__estimator__n_estimators': [20], 'clf__estimator__min_samples_split': [2, 3]},\n",
       "       pre_dispatch='2*n_jobs', refit=True, return_train_score='warn',\n",
       "       scoring=None, verbose=0)"
      ]
     },
     "execution_count": 22,
     "metadata": {},
     "output_type": "execute_result"
    }
   ],
   "source": [
    "#traing the model\n",
    "cv.fit(X_train, Y_train)"
   ]
  },
  {
   "cell_type": "code",
   "execution_count": null,
   "metadata": {},
   "outputs": [],
   "source": []
  },
  {
   "cell_type": "markdown",
   "metadata": {},
   "source": [
    "### 7. Test your model\n",
    "Show the accuracy, precision, and recall of the tuned model.  \n",
    "\n",
    "Since this project focuses on code quality, process, and  pipelines, there is no minimum performance metric needed to pass. However, make sure to fine tune your models for accuracy, precision and recall to make your project stand out - especially for your portfolio!"
   ]
  },
  {
   "cell_type": "code",
   "execution_count": 27,
   "metadata": {},
   "outputs": [],
   "source": [
    "Y_pred_parametized = cv.predict(X_test)"
   ]
  },
  {
   "cell_type": "code",
   "execution_count": 29,
   "metadata": {},
   "outputs": [
    {
     "name": "stdout",
     "output_type": "stream",
     "text": [
      "related              precision    recall  f1-score   support\n",
      "\n",
      "          0       0.67      0.29      0.40      1272\n",
      "          1       0.80      0.95      0.87      3930\n",
      "          2       0.44      0.19      0.27        42\n",
      "\n",
      "avg / total       0.77      0.79      0.75      5244\n",
      "\n",
      "request              precision    recall  f1-score   support\n",
      "\n",
      "          0       0.89      0.99      0.94      4339\n",
      "          1       0.88      0.41      0.56       905\n",
      "\n",
      "avg / total       0.89      0.89      0.87      5244\n",
      "\n",
      "offer              precision    recall  f1-score   support\n",
      "\n",
      "          0       1.00      1.00      1.00      5228\n",
      "          1       0.00      0.00      0.00        16\n",
      "\n",
      "avg / total       0.99      1.00      1.00      5244\n",
      "\n",
      "aid_related              precision    recall  f1-score   support\n",
      "\n",
      "          0       0.75      0.87      0.81      3081\n",
      "          1       0.76      0.58      0.66      2163\n",
      "\n",
      "avg / total       0.75      0.75      0.74      5244\n",
      "\n",
      "medical_help              precision    recall  f1-score   support\n",
      "\n",
      "          0       0.93      1.00      0.96      4831\n",
      "          1       0.59      0.07      0.12       413\n",
      "\n",
      "avg / total       0.90      0.92      0.89      5244\n",
      "\n",
      "medical_products              precision    recall  f1-score   support\n",
      "\n",
      "          0       0.95      1.00      0.97      4956\n",
      "          1       0.83      0.03      0.07       288\n",
      "\n",
      "avg / total       0.94      0.95      0.92      5244\n",
      "\n",
      "search_and_rescue              precision    recall  f1-score   support\n",
      "\n",
      "          0       0.97      1.00      0.99      5100\n",
      "          1       0.86      0.04      0.08       144\n",
      "\n",
      "avg / total       0.97      0.97      0.96      5244\n",
      "\n",
      "security              precision    recall  f1-score   support\n",
      "\n",
      "          0       0.98      1.00      0.99      5145\n",
      "          1       0.00      0.00      0.00        99\n",
      "\n",
      "avg / total       0.96      0.98      0.97      5244\n",
      "\n",
      "military              precision    recall  f1-score   support\n",
      "\n",
      "          0       0.97      1.00      0.99      5088\n",
      "          1       0.60      0.04      0.07       156\n",
      "\n",
      "avg / total       0.96      0.97      0.96      5244\n",
      "\n",
      "child_alone              precision    recall  f1-score   support\n",
      "\n",
      "          0       1.00      1.00      1.00      5244\n",
      "\n",
      "avg / total       1.00      1.00      1.00      5244\n",
      "\n",
      "water              precision    recall  f1-score   support\n",
      "\n",
      "          0       0.95      1.00      0.97      4888\n",
      "          1       0.86      0.27      0.41       356\n",
      "\n",
      "avg / total       0.94      0.95      0.93      5244\n",
      "\n",
      "food              precision    recall  f1-score   support\n",
      "\n",
      "          0       0.93      0.99      0.96      4673\n",
      "          1       0.84      0.38      0.53       571\n",
      "\n",
      "avg / total       0.92      0.93      0.91      5244\n",
      "\n",
      "shelter              precision    recall  f1-score   support\n",
      "\n",
      "          0       0.94      1.00      0.97      4819\n",
      "          1       0.86      0.26      0.40       425\n",
      "\n",
      "avg / total       0.93      0.94      0.92      5244\n",
      "\n",
      "clothing              precision    recall  f1-score   support\n",
      "\n",
      "          0       0.98      1.00      0.99      5152\n",
      "          1       1.00      0.08      0.14        92\n",
      "\n",
      "avg / total       0.98      0.98      0.98      5244\n",
      "\n",
      "money              precision    recall  f1-score   support\n",
      "\n",
      "          0       0.98      1.00      0.99      5110\n",
      "          1       1.00      0.06      0.11       134\n",
      "\n",
      "avg / total       0.98      0.98      0.97      5244\n",
      "\n",
      "missing_people              precision    recall  f1-score   support\n",
      "\n",
      "          0       0.99      1.00      0.99      5180\n",
      "          1       0.00      0.00      0.00        64\n",
      "\n",
      "avg / total       0.98      0.99      0.98      5244\n",
      "\n",
      "refugees              precision    recall  f1-score   support\n",
      "\n",
      "          0       0.97      1.00      0.98      5077\n",
      "          1       0.71      0.03      0.06       167\n",
      "\n",
      "avg / total       0.96      0.97      0.95      5244\n",
      "\n",
      "death              precision    recall  f1-score   support\n",
      "\n",
      "          0       0.96      1.00      0.98      4995\n",
      "          1       0.83      0.10      0.18       249\n",
      "\n",
      "avg / total       0.95      0.96      0.94      5244\n",
      "\n",
      "other_aid              precision    recall  f1-score   support\n",
      "\n",
      "          0       0.87      1.00      0.93      4559\n",
      "          1       0.82      0.03      0.05       685\n",
      "\n",
      "avg / total       0.87      0.87      0.82      5244\n",
      "\n",
      "infrastructure_related              precision    recall  f1-score   support\n",
      "\n",
      "          0       0.94      1.00      0.97      4905\n",
      "          1       0.25      0.00      0.01       339\n",
      "\n",
      "avg / total       0.89      0.93      0.90      5244\n",
      "\n",
      "transport              precision    recall  f1-score   support\n",
      "\n",
      "          0       0.95      1.00      0.98      4994\n",
      "          1       0.72      0.05      0.10       250\n",
      "\n",
      "avg / total       0.94      0.95      0.93      5244\n",
      "\n",
      "buildings              precision    recall  f1-score   support\n",
      "\n",
      "          0       0.96      1.00      0.98      5012\n",
      "          1       0.74      0.12      0.21       232\n",
      "\n",
      "avg / total       0.95      0.96      0.94      5244\n",
      "\n",
      "electricity              precision    recall  f1-score   support\n",
      "\n",
      "          0       0.98      1.00      0.99      5140\n",
      "          1       0.90      0.09      0.16       104\n",
      "\n",
      "avg / total       0.98      0.98      0.97      5244\n",
      "\n",
      "tools              precision    recall  f1-score   support\n",
      "\n",
      "          0       0.99      1.00      1.00      5213\n",
      "          1       0.00      0.00      0.00        31\n",
      "\n",
      "avg / total       0.99      0.99      0.99      5244\n",
      "\n",
      "hospitals              precision    recall  f1-score   support\n",
      "\n",
      "          0       0.99      1.00      0.99      5189\n",
      "          1       0.00      0.00      0.00        55\n",
      "\n",
      "avg / total       0.98      0.99      0.98      5244\n",
      "\n",
      "shops              precision    recall  f1-score   support\n",
      "\n",
      "          0       1.00      1.00      1.00      5219\n",
      "          1       0.00      0.00      0.00        25\n",
      "\n",
      "avg / total       0.99      1.00      0.99      5244\n",
      "\n",
      "aid_centers              precision    recall  f1-score   support\n",
      "\n",
      "          0       0.99      1.00      0.99      5176\n",
      "          1       0.00      0.00      0.00        68\n",
      "\n",
      "avg / total       0.97      0.99      0.98      5244\n",
      "\n",
      "other_infrastructure              precision    recall  f1-score   support\n",
      "\n",
      "          0       0.96      1.00      0.98      5019\n",
      "          1       0.00      0.00      0.00       225\n",
      "\n",
      "avg / total       0.92      0.96      0.94      5244\n",
      "\n",
      "weather_related              precision    recall  f1-score   support\n",
      "\n",
      "          0       0.85      0.96      0.90      3784\n",
      "          1       0.85      0.58      0.69      1460\n",
      "\n",
      "avg / total       0.85      0.85      0.84      5244\n",
      "\n",
      "floods              precision    recall  f1-score   support\n",
      "\n",
      "          0       0.94      1.00      0.97      4795\n",
      "          1       0.92      0.27      0.42       449\n",
      "\n",
      "avg / total       0.94      0.94      0.92      5244\n",
      "\n",
      "storm              precision    recall  f1-score   support\n",
      "\n",
      "          0       0.94      0.99      0.96      4735\n",
      "          1       0.76      0.41      0.53       509\n",
      "\n",
      "avg / total       0.92      0.93      0.92      5244\n",
      "\n",
      "fire              precision    recall  f1-score   support\n",
      "\n",
      "          0       0.99      1.00      1.00      5192\n",
      "          1       0.00      0.00      0.00        52\n",
      "\n",
      "avg / total       0.98      0.99      0.99      5244\n",
      "\n",
      "earthquake              precision    recall  f1-score   support\n",
      "\n",
      "          0       0.97      0.99      0.98      4789\n",
      "          1       0.87      0.66      0.75       455\n",
      "\n",
      "avg / total       0.96      0.96      0.96      5244\n",
      "\n",
      "cold              precision    recall  f1-score   support\n",
      "\n",
      "          0       0.98      1.00      0.99      5132\n",
      "          1       1.00      0.08      0.15       112\n",
      "\n",
      "avg / total       0.98      0.98      0.97      5244\n",
      "\n",
      "other_weather              precision    recall  f1-score   support\n",
      "\n",
      "          0       0.94      1.00      0.97      4952\n",
      "          1       0.38      0.01      0.02       292\n",
      "\n",
      "avg / total       0.91      0.94      0.92      5244\n",
      "\n",
      "direct_report              precision    recall  f1-score   support\n",
      "\n",
      "          0       0.87      0.99      0.92      4243\n",
      "          1       0.85      0.36      0.50      1001\n",
      "\n",
      "avg / total       0.86      0.87      0.84      5244\n",
      "\n"
     ]
    },
    {
     "name": "stderr",
     "output_type": "stream",
     "text": [
      "/opt/conda/lib/python3.6/site-packages/sklearn/metrics/classification.py:1135: UndefinedMetricWarning: Precision and F-score are ill-defined and being set to 0.0 in labels with no predicted samples.\n",
      "  'precision', 'predicted', average, warn_for)\n"
     ]
    }
   ],
   "source": [
    "for i, col in enumerate(category_names):\n",
    "        print(col, classification_report(Y_test.iloc[:,i], Y_pred_parametized[:,i]))"
   ]
  },
  {
   "cell_type": "markdown",
   "metadata": {},
   "source": [
    "We did somewhat better that the past model by examining the avg/totals for each category and making a comparison. Adding more parameters might improve this model to a greater extent, but we stopped trying because it takes too loong to train the model."
   ]
  },
  {
   "cell_type": "code",
   "execution_count": null,
   "metadata": {},
   "outputs": [],
   "source": []
  },
  {
   "cell_type": "markdown",
   "metadata": {},
   "source": [
    "### 8. Try improving your model further. Here are a few ideas:\n",
    "* try other machine learning algorithms\n",
    "* add other features besides the TF-IDF"
   ]
  },
  {
   "cell_type": "code",
   "execution_count": null,
   "metadata": {},
   "outputs": [],
   "source": []
  },
  {
   "cell_type": "markdown",
   "metadata": {},
   "source": [
    "### 9. Export your model as a pickle file"
   ]
  },
  {
   "cell_type": "code",
   "execution_count": 33,
   "metadata": {},
   "outputs": [],
   "source": [
    "# model_pkl = pickle.dump(cv, 'classifier.pkl')"
   ]
  },
  {
   "cell_type": "markdown",
   "metadata": {},
   "source": [
    "### 10. Use this notebook to complete `train.py`\n",
    "Use the template file attached in the Resources folder to write a script that runs the steps above to create a database and export a model based on a new dataset specified by the user."
   ]
  },
  {
   "cell_type": "code",
   "execution_count": null,
   "metadata": {},
   "outputs": [],
   "source": []
  }
 ],
 "metadata": {
  "kernelspec": {
   "display_name": "Python 3",
   "language": "python",
   "name": "python3"
  },
  "language_info": {
   "codemirror_mode": {
    "name": "ipython",
    "version": 3
   },
   "file_extension": ".py",
   "mimetype": "text/x-python",
   "name": "python",
   "nbconvert_exporter": "python",
   "pygments_lexer": "ipython3",
   "version": "3.6.3"
  }
 },
 "nbformat": 4,
 "nbformat_minor": 2
}
